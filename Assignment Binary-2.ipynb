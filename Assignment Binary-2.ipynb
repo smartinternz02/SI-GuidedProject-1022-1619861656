{
 "cells": [
  {
   "cell_type": "code",
   "execution_count": 1,
   "metadata": {},
   "outputs": [],
   "source": [
    "import numpy as np\n",
    "import pandas as pd"
   ]
  },
  {
   "cell_type": "code",
   "execution_count": 2,
   "metadata": {},
   "outputs": [],
   "source": [
    "dt=pd.read_csv(\"healthcare-stroke.csv\")"
   ]
  },
  {
   "cell_type": "code",
   "execution_count": 3,
   "metadata": {},
   "outputs": [
    {
     "data": {
      "text/html": [
       "<div>\n",
       "<style scoped>\n",
       "    .dataframe tbody tr th:only-of-type {\n",
       "        vertical-align: middle;\n",
       "    }\n",
       "\n",
       "    .dataframe tbody tr th {\n",
       "        vertical-align: top;\n",
       "    }\n",
       "\n",
       "    .dataframe thead th {\n",
       "        text-align: right;\n",
       "    }\n",
       "</style>\n",
       "<table border=\"1\" class=\"dataframe\">\n",
       "  <thead>\n",
       "    <tr style=\"text-align: right;\">\n",
       "      <th></th>\n",
       "      <th>id</th>\n",
       "      <th>gender</th>\n",
       "      <th>age</th>\n",
       "      <th>hypertension</th>\n",
       "      <th>heart_disease</th>\n",
       "      <th>ever_married</th>\n",
       "      <th>work_type</th>\n",
       "      <th>Residence_type</th>\n",
       "      <th>avg_glucose_level</th>\n",
       "      <th>bmi</th>\n",
       "      <th>smoking_status</th>\n",
       "      <th>stroke</th>\n",
       "    </tr>\n",
       "  </thead>\n",
       "  <tbody>\n",
       "    <tr>\n",
       "      <th>0</th>\n",
       "      <td>9046</td>\n",
       "      <td>Male</td>\n",
       "      <td>67.0</td>\n",
       "      <td>0</td>\n",
       "      <td>1</td>\n",
       "      <td>Yes</td>\n",
       "      <td>Private</td>\n",
       "      <td>Urban</td>\n",
       "      <td>228.69</td>\n",
       "      <td>36.6</td>\n",
       "      <td>formerly smoked</td>\n",
       "      <td>1</td>\n",
       "    </tr>\n",
       "    <tr>\n",
       "      <th>1</th>\n",
       "      <td>51676</td>\n",
       "      <td>Female</td>\n",
       "      <td>61.0</td>\n",
       "      <td>0</td>\n",
       "      <td>0</td>\n",
       "      <td>Yes</td>\n",
       "      <td>Self-employed</td>\n",
       "      <td>Rural</td>\n",
       "      <td>202.21</td>\n",
       "      <td>NaN</td>\n",
       "      <td>never smoked</td>\n",
       "      <td>1</td>\n",
       "    </tr>\n",
       "    <tr>\n",
       "      <th>2</th>\n",
       "      <td>31112</td>\n",
       "      <td>Male</td>\n",
       "      <td>80.0</td>\n",
       "      <td>0</td>\n",
       "      <td>1</td>\n",
       "      <td>Yes</td>\n",
       "      <td>Private</td>\n",
       "      <td>Rural</td>\n",
       "      <td>105.92</td>\n",
       "      <td>32.5</td>\n",
       "      <td>never smoked</td>\n",
       "      <td>1</td>\n",
       "    </tr>\n",
       "    <tr>\n",
       "      <th>3</th>\n",
       "      <td>60182</td>\n",
       "      <td>Female</td>\n",
       "      <td>49.0</td>\n",
       "      <td>0</td>\n",
       "      <td>0</td>\n",
       "      <td>Yes</td>\n",
       "      <td>Private</td>\n",
       "      <td>Urban</td>\n",
       "      <td>171.23</td>\n",
       "      <td>34.4</td>\n",
       "      <td>smokes</td>\n",
       "      <td>1</td>\n",
       "    </tr>\n",
       "    <tr>\n",
       "      <th>4</th>\n",
       "      <td>1665</td>\n",
       "      <td>Female</td>\n",
       "      <td>79.0</td>\n",
       "      <td>1</td>\n",
       "      <td>0</td>\n",
       "      <td>Yes</td>\n",
       "      <td>Self-employed</td>\n",
       "      <td>Rural</td>\n",
       "      <td>174.12</td>\n",
       "      <td>24.0</td>\n",
       "      <td>never smoked</td>\n",
       "      <td>1</td>\n",
       "    </tr>\n",
       "  </tbody>\n",
       "</table>\n",
       "</div>"
      ],
      "text/plain": [
       "      id  gender   age  hypertension  heart_disease ever_married  \\\n",
       "0   9046    Male  67.0             0              1          Yes   \n",
       "1  51676  Female  61.0             0              0          Yes   \n",
       "2  31112    Male  80.0             0              1          Yes   \n",
       "3  60182  Female  49.0             0              0          Yes   \n",
       "4   1665  Female  79.0             1              0          Yes   \n",
       "\n",
       "       work_type Residence_type  avg_glucose_level   bmi   smoking_status  \\\n",
       "0        Private          Urban             228.69  36.6  formerly smoked   \n",
       "1  Self-employed          Rural             202.21   NaN     never smoked   \n",
       "2        Private          Rural             105.92  32.5     never smoked   \n",
       "3        Private          Urban             171.23  34.4           smokes   \n",
       "4  Self-employed          Rural             174.12  24.0     never smoked   \n",
       "\n",
       "   stroke  \n",
       "0       1  \n",
       "1       1  \n",
       "2       1  \n",
       "3       1  \n",
       "4       1  "
      ]
     },
     "execution_count": 3,
     "metadata": {},
     "output_type": "execute_result"
    }
   ],
   "source": [
    "dt.head()"
   ]
  },
  {
   "cell_type": "code",
   "execution_count": 4,
   "metadata": {},
   "outputs": [
    {
     "data": {
      "text/plain": [
       "id                   False\n",
       "gender               False\n",
       "age                  False\n",
       "hypertension         False\n",
       "heart_disease        False\n",
       "ever_married         False\n",
       "work_type            False\n",
       "Residence_type       False\n",
       "avg_glucose_level    False\n",
       "bmi                   True\n",
       "smoking_status       False\n",
       "stroke               False\n",
       "dtype: bool"
      ]
     },
     "execution_count": 4,
     "metadata": {},
     "output_type": "execute_result"
    }
   ],
   "source": [
    "dt.isnull().any()"
   ]
  },
  {
   "cell_type": "code",
   "execution_count": 5,
   "metadata": {},
   "outputs": [],
   "source": [
    "dt[\"bmi\"].fillna(dt[\"bmi\"].mean(),inplace=True)"
   ]
  },
  {
   "cell_type": "code",
   "execution_count": 6,
   "metadata": {},
   "outputs": [
    {
     "data": {
      "text/plain": [
       "id                   False\n",
       "gender               False\n",
       "age                  False\n",
       "hypertension         False\n",
       "heart_disease        False\n",
       "ever_married         False\n",
       "work_type            False\n",
       "Residence_type       False\n",
       "avg_glucose_level    False\n",
       "bmi                  False\n",
       "smoking_status       False\n",
       "stroke               False\n",
       "dtype: bool"
      ]
     },
     "execution_count": 6,
     "metadata": {},
     "output_type": "execute_result"
    }
   ],
   "source": [
    "dt.isnull().any()"
   ]
  },
  {
   "cell_type": "code",
   "execution_count": 7,
   "metadata": {},
   "outputs": [
    {
     "name": "stdout",
     "output_type": "stream",
     "text": [
      "<class 'pandas.core.frame.DataFrame'>\n",
      "RangeIndex: 5110 entries, 0 to 5109\n",
      "Data columns (total 12 columns):\n",
      "id                   5110 non-null int64\n",
      "gender               5110 non-null object\n",
      "age                  5110 non-null float64\n",
      "hypertension         5110 non-null int64\n",
      "heart_disease        5110 non-null int64\n",
      "ever_married         5110 non-null object\n",
      "work_type            5110 non-null object\n",
      "Residence_type       5110 non-null object\n",
      "avg_glucose_level    5110 non-null float64\n",
      "bmi                  5110 non-null float64\n",
      "smoking_status       5110 non-null object\n",
      "stroke               5110 non-null int64\n",
      "dtypes: float64(3), int64(4), object(5)\n",
      "memory usage: 479.1+ KB\n"
     ]
    }
   ],
   "source": [
    "dt.info()"
   ]
  },
  {
   "cell_type": "code",
   "execution_count": 8,
   "metadata": {},
   "outputs": [],
   "source": [
    "x=dt.iloc[:,1:11].values\n",
    "y=dt.iloc[:,11:12].values"
   ]
  },
  {
   "cell_type": "code",
   "execution_count": 9,
   "metadata": {},
   "outputs": [
    {
     "data": {
      "text/plain": [
       "array([['Male', 67.0, 0, ..., 228.69, 36.6, 'formerly smoked'],\n",
       "       ['Female', 61.0, 0, ..., 202.21, 28.893236911794673,\n",
       "        'never smoked'],\n",
       "       ['Male', 80.0, 0, ..., 105.92, 32.5, 'never smoked'],\n",
       "       ...,\n",
       "       ['Female', 35.0, 0, ..., 82.99, 30.6, 'never smoked'],\n",
       "       ['Male', 51.0, 0, ..., 166.29, 25.6, 'formerly smoked'],\n",
       "       ['Female', 44.0, 0, ..., 85.28, 26.2, 'Unknown']], dtype=object)"
      ]
     },
     "execution_count": 9,
     "metadata": {},
     "output_type": "execute_result"
    }
   ],
   "source": [
    "x"
   ]
  },
  {
   "cell_type": "code",
   "execution_count": 10,
   "metadata": {},
   "outputs": [
    {
     "data": {
      "text/plain": [
       "array([[1],\n",
       "       [1],\n",
       "       [1],\n",
       "       ...,\n",
       "       [0],\n",
       "       [0],\n",
       "       [0]], dtype=int64)"
      ]
     },
     "execution_count": 10,
     "metadata": {},
     "output_type": "execute_result"
    }
   ],
   "source": [
    "y"
   ]
  },
  {
   "cell_type": "code",
   "execution_count": 11,
   "metadata": {},
   "outputs": [
    {
     "data": {
      "text/plain": [
       "(5110, 1)"
      ]
     },
     "execution_count": 11,
     "metadata": {},
     "output_type": "execute_result"
    }
   ],
   "source": [
    "y.shape"
   ]
  },
  {
   "cell_type": "code",
   "execution_count": 12,
   "metadata": {},
   "outputs": [
    {
     "data": {
      "text/plain": [
       "(5110, 10)"
      ]
     },
     "execution_count": 12,
     "metadata": {},
     "output_type": "execute_result"
    }
   ],
   "source": [
    "x.shape"
   ]
  },
  {
   "cell_type": "code",
   "execution_count": 13,
   "metadata": {},
   "outputs": [],
   "source": [
    "from sklearn.preprocessing import OneHotEncoder\n",
    "from sklearn.compose import ColumnTransformer\n",
    "ct=ColumnTransformer([(\"oh\",OneHotEncoder(),[0,4,5,6,9])],remainder=\"passthrough\")\n",
    "x=ct.fit_transform(x)"
   ]
  },
  {
   "cell_type": "code",
   "execution_count": 14,
   "metadata": {},
   "outputs": [
    {
     "data": {
      "text/plain": [
       "(5110, 21)"
      ]
     },
     "execution_count": 14,
     "metadata": {},
     "output_type": "execute_result"
    }
   ],
   "source": [
    "x.shape"
   ]
  },
  {
   "cell_type": "code",
   "execution_count": 15,
   "metadata": {},
   "outputs": [],
   "source": [
    "from sklearn.model_selection import train_test_split\n",
    "x_train,x_test,y_train,y_test=train_test_split(x,y,test_size=0.2,random_state=0)"
   ]
  },
  {
   "cell_type": "code",
   "execution_count": 16,
   "metadata": {},
   "outputs": [
    {
     "data": {
      "text/plain": [
       "array([[1.0, 0.0, 0.0, ..., 0, 67.29, 36.7],\n",
       "       [1.0, 0.0, 0.0, ..., 0, 83.53, 48.5],\n",
       "       [0.0, 1.0, 0.0, ..., 0, 65.16, 30.8],\n",
       "       ...,\n",
       "       [0.0, 1.0, 0.0, ..., 0, 94.71, 28.4],\n",
       "       [0.0, 1.0, 0.0, ..., 0, 120.94, 29.7],\n",
       "       [1.0, 0.0, 0.0, ..., 0, 59.52, 33.2]], dtype=object)"
      ]
     },
     "execution_count": 16,
     "metadata": {},
     "output_type": "execute_result"
    }
   ],
   "source": [
    "x_train"
   ]
  },
  {
   "cell_type": "code",
   "execution_count": 17,
   "metadata": {},
   "outputs": [],
   "source": [
    "from sklearn.preprocessing import StandardScaler\n",
    "sc=StandardScaler()\n",
    "x_train=sc.fit_transform(x_train)\n",
    "x_test=sc.fit_transform(x_test)"
   ]
  },
  {
   "cell_type": "code",
   "execution_count": 18,
   "metadata": {},
   "outputs": [],
   "source": [
    "from tensorflow.keras.models import Sequential\n",
    "from tensorflow.keras.layers import Dense"
   ]
  },
  {
   "cell_type": "code",
   "execution_count": 19,
   "metadata": {},
   "outputs": [],
   "source": [
    "ann=Sequential()"
   ]
  },
  {
   "cell_type": "code",
   "execution_count": 20,
   "metadata": {},
   "outputs": [],
   "source": [
    "ann.add(Dense(10,kernel_initializer=\"random_uniform\",activation=\"relu\"))"
   ]
  },
  {
   "cell_type": "code",
   "execution_count": 21,
   "metadata": {},
   "outputs": [],
   "source": [
    "ann.add(Dense(20,kernel_initializer=\"random_uniform\",activation=\"relu\"))"
   ]
  },
  {
   "cell_type": "code",
   "execution_count": 22,
   "metadata": {},
   "outputs": [],
   "source": [
    "ann.add(Dense(1,kernel_initializer=\"random_uniform\",activation=\"sigmoid\"))"
   ]
  },
  {
   "cell_type": "code",
   "execution_count": 24,
   "metadata": {},
   "outputs": [],
   "source": [
    "ann.compile(\"adam\",\"binary_crossentropy\",metrics=[\"accuracy\"])"
   ]
  },
  {
   "cell_type": "code",
   "execution_count": 25,
   "metadata": {},
   "outputs": [
    {
     "name": "stdout",
     "output_type": "stream",
     "text": [
      "Epoch 1/50\n",
      "128/128 [==============================] - 1s 1ms/step - loss: 0.6238 - accuracy: 0.9333\n",
      "Epoch 2/50\n",
      "128/128 [==============================] - 0s 1ms/step - loss: 0.1978 - accuracy: 0.9501\n",
      "Epoch 3/50\n",
      "128/128 [==============================] - 0s 895us/step - loss: 0.1560 - accuracy: 0.9561\n",
      "Epoch 4/50\n",
      "128/128 [==============================] - 0s 1ms/step - loss: 0.1622 - accuracy: 0.9501\n",
      "Epoch 5/50\n",
      "128/128 [==============================] - 0s 1ms/step - loss: 0.1587 - accuracy: 0.9501\n",
      "Epoch 6/50\n",
      "128/128 [==============================] - 0s 848us/step - loss: 0.1365 - accuracy: 0.9578\n",
      "Epoch 7/50\n",
      "128/128 [==============================] - 0s 809us/step - loss: 0.1467 - accuracy: 0.9543\n",
      "Epoch 8/50\n",
      "128/128 [==============================] - 0s 1ms/step - loss: 0.1531 - accuracy: 0.9508\n",
      "Epoch 9/50\n",
      "128/128 [==============================] - 0s 3ms/step - loss: 0.1568 - accuracy: 0.9502\n",
      "Epoch 10/50\n",
      "128/128 [==============================] - 0s 3ms/step - loss: 0.1576 - accuracy: 0.9501\n",
      "Epoch 11/50\n",
      "128/128 [==============================] - 0s 2ms/step - loss: 0.1357 - accuracy: 0.9558\n",
      "Epoch 12/50\n",
      "128/128 [==============================] - 0s 2ms/step - loss: 0.1341 - accuracy: 0.9589\n",
      "Epoch 13/50\n",
      "128/128 [==============================] - 0s 3ms/step - loss: 0.1457 - accuracy: 0.9550\n",
      "Epoch 14/50\n",
      "128/128 [==============================] - 0s 2ms/step - loss: 0.1421 - accuracy: 0.9531\n",
      "Epoch 15/50\n",
      "128/128 [==============================] - 0s 2ms/step - loss: 0.1543 - accuracy: 0.9463\n",
      "Epoch 16/50\n",
      "128/128 [==============================] - 0s 2ms/step - loss: 0.1383 - accuracy: 0.9565\n",
      "Epoch 17/50\n",
      "128/128 [==============================] - 0s 3ms/step - loss: 0.1458 - accuracy: 0.9513\n",
      "Epoch 18/50\n",
      "128/128 [==============================] - 0s 3ms/step - loss: 0.1436 - accuracy: 0.9524\n",
      "Epoch 19/50\n",
      "128/128 [==============================] - 0s 2ms/step - loss: 0.1340 - accuracy: 0.9557\n",
      "Epoch 20/50\n",
      "128/128 [==============================] - 0s 3ms/step - loss: 0.1360 - accuracy: 0.9514\n",
      "Epoch 21/50\n",
      "128/128 [==============================] - 0s 2ms/step - loss: 0.1311 - accuracy: 0.9570\n",
      "Epoch 22/50\n",
      "128/128 [==============================] - 0s 3ms/step - loss: 0.1376 - accuracy: 0.9551\n",
      "Epoch 23/50\n",
      "128/128 [==============================] - 0s 3ms/step - loss: 0.1396 - accuracy: 0.9529\n",
      "Epoch 24/50\n",
      "128/128 [==============================] - 0s 3ms/step - loss: 0.1455 - accuracy: 0.9517\n",
      "Epoch 25/50\n",
      "128/128 [==============================] - 0s 2ms/step - loss: 0.1433 - accuracy: 0.9533\n",
      "Epoch 26/50\n",
      "128/128 [==============================] - 0s 2ms/step - loss: 0.1416 - accuracy: 0.9532\n",
      "Epoch 27/50\n",
      "128/128 [==============================] - 0s 3ms/step - loss: 0.1381 - accuracy: 0.9520\n",
      "Epoch 28/50\n",
      "128/128 [==============================] - 0s 3ms/step - loss: 0.1307 - accuracy: 0.9555\n",
      "Epoch 29/50\n",
      "128/128 [==============================] - 0s 2ms/step - loss: 0.1413 - accuracy: 0.9516\n",
      "Epoch 30/50\n",
      "128/128 [==============================] - 0s 3ms/step - loss: 0.1413 - accuracy: 0.9517\n",
      "Epoch 31/50\n",
      "128/128 [==============================] - 0s 4ms/step - loss: 0.1367 - accuracy: 0.9523: 0s - loss: 0.1390 - accu\n",
      "Epoch 32/50\n",
      "128/128 [==============================] - 0s 2ms/step - loss: 0.1335 - accuracy: 0.9548\n",
      "Epoch 33/50\n",
      "128/128 [==============================] - 0s 3ms/step - loss: 0.1397 - accuracy: 0.9537\n",
      "Epoch 34/50\n",
      "128/128 [==============================] - 0s 3ms/step - loss: 0.1429 - accuracy: 0.9518\n",
      "Epoch 35/50\n",
      "128/128 [==============================] - 0s 2ms/step - loss: 0.1587 - accuracy: 0.9445\n",
      "Epoch 36/50\n",
      "128/128 [==============================] - 0s 2ms/step - loss: 0.1428 - accuracy: 0.9535\n",
      "Epoch 37/50\n",
      "128/128 [==============================] - 0s 2ms/step - loss: 0.1466 - accuracy: 0.9452\n",
      "Epoch 38/50\n",
      "128/128 [==============================] - 0s 2ms/step - loss: 0.1365 - accuracy: 0.9529\n",
      "Epoch 39/50\n",
      "128/128 [==============================] - 0s 2ms/step - loss: 0.1449 - accuracy: 0.9522\n",
      "Epoch 40/50\n",
      "128/128 [==============================] - 0s 2ms/step - loss: 0.1384 - accuracy: 0.9541\n",
      "Epoch 41/50\n",
      "128/128 [==============================] - 0s 3ms/step - loss: 0.1353 - accuracy: 0.9553\n",
      "Epoch 42/50\n",
      "128/128 [==============================] - 0s 2ms/step - loss: 0.1281 - accuracy: 0.9589\n",
      "Epoch 43/50\n",
      "128/128 [==============================] - 0s 2ms/step - loss: 0.1464 - accuracy: 0.9469\n",
      "Epoch 44/50\n",
      "128/128 [==============================] - 0s 2ms/step - loss: 0.1433 - accuracy: 0.9527\n",
      "Epoch 45/50\n",
      "128/128 [==============================] - 0s 3ms/step - loss: 0.1326 - accuracy: 0.9563\n",
      "Epoch 46/50\n",
      "128/128 [==============================] - 0s 2ms/step - loss: 0.1366 - accuracy: 0.9538\n",
      "Epoch 47/50\n",
      "128/128 [==============================] - 0s 2ms/step - loss: 0.1567 - accuracy: 0.9447\n",
      "Epoch 48/50\n",
      "128/128 [==============================] - 0s 2ms/step - loss: 0.1385 - accuracy: 0.9531\n",
      "Epoch 49/50\n",
      "128/128 [==============================] - 0s 2ms/step - loss: 0.1385 - accuracy: 0.9519\n",
      "Epoch 50/50\n",
      "128/128 [==============================] - 0s 2ms/step - loss: 0.1470 - accuracy: 0.9467\n"
     ]
    },
    {
     "data": {
      "text/plain": [
       "<tensorflow.python.keras.callbacks.History at 0x1bff00d52b0>"
      ]
     },
     "execution_count": 25,
     "metadata": {},
     "output_type": "execute_result"
    }
   ],
   "source": [
    "ann.fit(x_train,y_train,batch_size=32,epochs=50)"
   ]
  },
  {
   "cell_type": "code",
   "execution_count": 26,
   "metadata": {},
   "outputs": [],
   "source": [
    "ypred=ann.predict(x_test)"
   ]
  },
  {
   "cell_type": "code",
   "execution_count": 27,
   "metadata": {},
   "outputs": [
    {
     "data": {
      "text/plain": [
       "array([[5.4682547e-01],\n",
       "       [7.9127958e-08],\n",
       "       [4.3697804e-02],\n",
       "       ...,\n",
       "       [4.2089224e-03],\n",
       "       [1.2234333e-01],\n",
       "       [3.1431317e-03]], dtype=float32)"
      ]
     },
     "execution_count": 27,
     "metadata": {},
     "output_type": "execute_result"
    }
   ],
   "source": [
    "ypred"
   ]
  },
  {
   "cell_type": "code",
   "execution_count": 28,
   "metadata": {},
   "outputs": [
    {
     "data": {
      "text/plain": [
       "array([[1],\n",
       "       [0],\n",
       "       [0],\n",
       "       ...,\n",
       "       [0],\n",
       "       [1],\n",
       "       [0]], dtype=int64)"
      ]
     },
     "execution_count": 28,
     "metadata": {},
     "output_type": "execute_result"
    }
   ],
   "source": [
    "y_test"
   ]
  },
  {
   "cell_type": "code",
   "execution_count": 39,
   "metadata": {},
   "outputs": [],
   "source": [
    "yp=ann.predict(sc.transform(ct.transform([[\"Female\",29.00,0,0,\"Yes\",\"Self-employed\",\"Urban\",90.52,28.000000,\"never smoked\"]])))"
   ]
  },
  {
   "cell_type": "code",
   "execution_count": 41,
   "metadata": {},
   "outputs": [
    {
     "data": {
      "text/plain": [
       "array([[False]])"
      ]
     },
     "execution_count": 41,
     "metadata": {},
     "output_type": "execute_result"
    }
   ],
   "source": [
    "yp>0.1"
   ]
  },
  {
   "cell_type": "code",
   "execution_count": 42,
   "metadata": {},
   "outputs": [],
   "source": [
    "yp=ann.predict(sc.transform(ct.transform([[\"Female\",79.0,1,0,\"Yes\",\"Self-employed\",\"Rural\",174.12,24.0,\"never smoked\"]])))"
   ]
  },
  {
   "cell_type": "code",
   "execution_count": 44,
   "metadata": {},
   "outputs": [
    {
     "data": {
      "text/plain": [
       "array([[ True]])"
      ]
     },
     "execution_count": 44,
     "metadata": {},
     "output_type": "execute_result"
    }
   ],
   "source": [
    "yp>0.1"
   ]
  },
  {
   "cell_type": "code",
   "execution_count": null,
   "metadata": {},
   "outputs": [],
   "source": []
  }
 ],
 "metadata": {
  "kernelspec": {
   "display_name": "Python 3",
   "language": "python",
   "name": "python3"
  },
  "language_info": {
   "codemirror_mode": {
    "name": "ipython",
    "version": 3
   },
   "file_extension": ".py",
   "mimetype": "text/x-python",
   "name": "python",
   "nbconvert_exporter": "python",
   "pygments_lexer": "ipython3",
   "version": "3.7.3"
  }
 },
 "nbformat": 4,
 "nbformat_minor": 2
}
