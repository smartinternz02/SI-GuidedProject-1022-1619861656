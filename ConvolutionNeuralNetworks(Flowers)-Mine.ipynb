{
 "cells": [
  {
   "cell_type": "code",
   "execution_count": 1,
   "metadata": {},
   "outputs": [],
   "source": [
    "from tensorflow.keras.models import Sequential\n",
    "from tensorflow.keras.layers import Dense\n",
    "from tensorflow.keras.layers import Convolution2D\n",
    "from tensorflow.keras.layers import MaxPooling2D\n",
    "from tensorflow.keras.layers import Flatten"
   ]
  },
  {
   "cell_type": "code",
   "execution_count": 2,
   "metadata": {},
   "outputs": [],
   "source": [
    "from keras.preprocessing.image import ImageDataGenerator\n",
    "train_datagen=ImageDataGenerator(rescale=1./255,shear_range=0.2,zoom_range=0.2,horizontal_flip=True)\n",
    "test_datagen=ImageDataGenerator(rescale=1./255)"
   ]
  },
  {
   "cell_type": "code",
   "execution_count": 3,
   "metadata": {},
   "outputs": [
    {
     "name": "stdout",
     "output_type": "stream",
     "text": [
      "Found 1677 images belonging to 5 classes.\n",
      "Found 750 images belonging to 5 classes.\n"
     ]
    }
   ],
   "source": [
    "x_train=train_datagen.flow_from_directory(r\"C:\\Externship-program-AI\\flowers\\flowers\\trainset\",target_size=(64,64),batch_size=32,class_mode=\"categorical\")\n",
    "x_test=train_datagen.flow_from_directory(r\"C:\\Externship-program-AI\\flowers\\flowers\\testset\",target_size=(64,64),batch_size=32,class_mode=\"categorical\")"
   ]
  },
  {
   "cell_type": "code",
   "execution_count": 4,
   "metadata": {},
   "outputs": [],
   "source": [
    "model=Sequential()"
   ]
  },
  {
   "cell_type": "code",
   "execution_count": 5,
   "metadata": {},
   "outputs": [],
   "source": [
    "model.add(Convolution2D(32,(3,3),input_shape=(64,64,3),activation=\"relu\"))"
   ]
  },
  {
   "cell_type": "code",
   "execution_count": 6,
   "metadata": {},
   "outputs": [],
   "source": [
    "model.add(MaxPooling2D(2,2))"
   ]
  },
  {
   "cell_type": "code",
   "execution_count": 7,
   "metadata": {},
   "outputs": [],
   "source": [
    "model.add(Flatten())"
   ]
  },
  {
   "cell_type": "code",
   "execution_count": 8,
   "metadata": {},
   "outputs": [],
   "source": [
    "model.add(Dense(units=512,activation=\"relu\",kernel_initializer=\"random_uniform\"))"
   ]
  },
  {
   "cell_type": "code",
   "execution_count": 9,
   "metadata": {},
   "outputs": [],
   "source": [
    "model.add(Dense(units=5,activation=\"softmax\",kernel_initializer=\"random_uniform\"))"
   ]
  },
  {
   "cell_type": "code",
   "execution_count": 10,
   "metadata": {},
   "outputs": [],
   "source": [
    "model.compile(\"sgd\",loss=\"categorical_crossentropy\",metrics=\"accuracy\")"
   ]
  },
  {
   "cell_type": "code",
   "execution_count": 13,
   "metadata": {},
   "outputs": [
    {
     "name": "stdout",
     "output_type": "stream",
     "text": [
      "Epoch 1/100\n",
      "52/52 [==============================] - 16s 311ms/step - loss: 0.6390 - accuracy: 0.7726 - val_loss: 1.2694 - val_accuracy: 0.5380\n",
      "Epoch 2/100\n",
      "52/52 [==============================] - 17s 331ms/step - loss: 0.6095 - accuracy: 0.7745 - val_loss: 1.1714 - val_accuracy: 0.5543\n",
      "Epoch 3/100\n",
      "52/52 [==============================] - 18s 344ms/step - loss: 0.5830 - accuracy: 0.7854 - val_loss: 1.3297 - val_accuracy: 0.5299\n",
      "Epoch 4/100\n",
      "52/52 [==============================] - 18s 341ms/step - loss: 0.6141 - accuracy: 0.7726 - val_loss: 1.2176 - val_accuracy: 0.5571\n",
      "Epoch 5/100\n",
      "52/52 [==============================] - 19s 362ms/step - loss: 0.6044 - accuracy: 0.7787 - val_loss: 1.1900 - val_accuracy: 0.5829\n",
      "Epoch 6/100\n",
      "52/52 [==============================] - 17s 332ms/step - loss: 0.5814 - accuracy: 0.7805 - val_loss: 1.2258 - val_accuracy: 0.5679\n",
      "Epoch 7/100\n",
      "52/52 [==============================] - 18s 347ms/step - loss: 0.5925 - accuracy: 0.7933 - val_loss: 1.2611 - val_accuracy: 0.5516\n",
      "Epoch 8/100\n",
      "52/52 [==============================] - 18s 341ms/step - loss: 0.5740 - accuracy: 0.7951 - val_loss: 1.2455 - val_accuracy: 0.5571\n",
      "Epoch 9/100\n",
      "52/52 [==============================] - 18s 344ms/step - loss: 0.5613 - accuracy: 0.8073 - val_loss: 1.1964 - val_accuracy: 0.5992\n",
      "Epoch 10/100\n",
      "52/52 [==============================] - 17s 337ms/step - loss: 0.5565 - accuracy: 0.8030 - val_loss: 1.2340 - val_accuracy: 0.5707\n",
      "Epoch 11/100\n",
      "52/52 [==============================] - 19s 362ms/step - loss: 0.5544 - accuracy: 0.7909 - val_loss: 1.3089 - val_accuracy: 0.5503\n",
      "Epoch 12/100\n",
      "52/52 [==============================] - 17s 329ms/step - loss: 0.5331 - accuracy: 0.8067 - val_loss: 1.2264 - val_accuracy: 0.6114\n",
      "Epoch 13/100\n",
      "52/52 [==============================] - 18s 347ms/step - loss: 0.5182 - accuracy: 0.8182 - val_loss: 1.3464 - val_accuracy: 0.5476\n",
      "Epoch 14/100\n",
      "52/52 [==============================] - 18s 352ms/step - loss: 0.5232 - accuracy: 0.8152 - val_loss: 1.3252 - val_accuracy: 0.5408\n",
      "Epoch 15/100\n",
      "52/52 [==============================] - 19s 356ms/step - loss: 0.5274 - accuracy: 0.8097 - val_loss: 1.2831 - val_accuracy: 0.5639\n",
      "Epoch 16/100\n",
      "52/52 [==============================] - 19s 364ms/step - loss: 0.5080 - accuracy: 0.8188 - val_loss: 1.2689 - val_accuracy: 0.5910\n",
      "Epoch 17/100\n",
      "52/52 [==============================] - 19s 359ms/step - loss: 0.5058 - accuracy: 0.8055 - val_loss: 1.3313 - val_accuracy: 0.5476\n",
      "Epoch 18/100\n",
      "52/52 [==============================] - 17s 335ms/step - loss: 0.4822 - accuracy: 0.8371 - val_loss: 1.5515 - val_accuracy: 0.4959\n",
      "Epoch 19/100\n",
      "52/52 [==============================] - 18s 337ms/step - loss: 0.5007 - accuracy: 0.8170 - val_loss: 1.3744 - val_accuracy: 0.5353\n",
      "Epoch 20/100\n",
      "52/52 [==============================] - 19s 356ms/step - loss: 0.4877 - accuracy: 0.8365 - val_loss: 1.2710 - val_accuracy: 0.5679\n",
      "Epoch 21/100\n",
      "52/52 [==============================] - 18s 337ms/step - loss: 0.4537 - accuracy: 0.8456 - val_loss: 1.3515 - val_accuracy: 0.5462\n",
      "Epoch 22/100\n",
      "52/52 [==============================] - 18s 352ms/step - loss: 0.4326 - accuracy: 0.8468 - val_loss: 1.3102 - val_accuracy: 0.5557\n",
      "Epoch 23/100\n",
      "52/52 [==============================] - 18s 347ms/step - loss: 0.4504 - accuracy: 0.8328 - val_loss: 1.2975 - val_accuracy: 0.6005\n",
      "Epoch 24/100\n",
      "52/52 [==============================] - 18s 346ms/step - loss: 0.4386 - accuracy: 0.8486 - val_loss: 1.5048 - val_accuracy: 0.5448\n",
      "Epoch 25/100\n",
      "52/52 [==============================] - 19s 366ms/step - loss: 0.4300 - accuracy: 0.8535 - val_loss: 1.4441 - val_accuracy: 0.5625\n",
      "Epoch 26/100\n",
      "52/52 [==============================] - 18s 358ms/step - loss: 0.4389 - accuracy: 0.8486 - val_loss: 1.3156 - val_accuracy: 0.5734\n",
      "Epoch 27/100\n",
      "52/52 [==============================] - 19s 362ms/step - loss: 0.4270 - accuracy: 0.8486 - val_loss: 1.3773 - val_accuracy: 0.5707\n",
      "Epoch 28/100\n",
      "52/52 [==============================] - 18s 336ms/step - loss: 0.4227 - accuracy: 0.8511 - val_loss: 1.3892 - val_accuracy: 0.5516\n",
      "Epoch 29/100\n",
      "52/52 [==============================] - 18s 358ms/step - loss: 0.4380 - accuracy: 0.8523 - val_loss: 1.4430 - val_accuracy: 0.5272\n",
      "Epoch 30/100\n",
      "52/52 [==============================] - 18s 347ms/step - loss: 0.3957 - accuracy: 0.8714 - val_loss: 1.3375 - val_accuracy: 0.6087\n",
      "Epoch 31/100\n",
      "52/52 [==============================] - 17s 321ms/step - loss: 0.3984 - accuracy: 0.8590 - val_loss: 1.5522 - val_accuracy: 0.5489\n",
      "Epoch 32/100\n",
      "52/52 [==============================] - 18s 353ms/step - loss: 0.3970 - accuracy: 0.8669 - val_loss: 1.5697 - val_accuracy: 0.5272\n",
      "Epoch 33/100\n",
      "52/52 [==============================] - 17s 330ms/step - loss: 0.3889 - accuracy: 0.8748 - val_loss: 1.4439 - val_accuracy: 0.5557\n",
      "Epoch 34/100\n",
      "52/52 [==============================] - 18s 342ms/step - loss: 0.3723 - accuracy: 0.8754 - val_loss: 1.4380 - val_accuracy: 0.5652\n",
      "Epoch 35/100\n",
      "52/52 [==============================] - 18s 344ms/step - loss: 0.3712 - accuracy: 0.8663 - val_loss: 1.4243 - val_accuracy: 0.5639\n",
      "Epoch 36/100\n",
      "52/52 [==============================] - 17s 329ms/step - loss: 0.3804 - accuracy: 0.8650 - val_loss: 1.3715 - val_accuracy: 0.5842\n",
      "Epoch 37/100\n",
      "52/52 [==============================] - 17s 332ms/step - loss: 0.3792 - accuracy: 0.8693 - val_loss: 1.5318 - val_accuracy: 0.5584\n",
      "Epoch 38/100\n",
      "52/52 [==============================] - 18s 344ms/step - loss: 0.3545 - accuracy: 0.8912 - val_loss: 1.4786 - val_accuracy: 0.5639\n",
      "Epoch 39/100\n",
      "52/52 [==============================] - 17s 320ms/step - loss: 0.3629 - accuracy: 0.8723 - val_loss: 1.4286 - val_accuracy: 0.5815\n",
      "Epoch 40/100\n",
      "52/52 [==============================] - 17s 323ms/step - loss: 0.3613 - accuracy: 0.8729 - val_loss: 1.5154 - val_accuracy: 0.5476\n",
      "Epoch 41/100\n",
      "52/52 [==============================] - 18s 352ms/step - loss: 0.3304 - accuracy: 0.8900 - val_loss: 1.5228 - val_accuracy: 0.5448\n",
      "Epoch 42/100\n",
      "52/52 [==============================] - 20s 374ms/step - loss: 0.3475 - accuracy: 0.8845 - val_loss: 1.5733 - val_accuracy: 0.5204\n",
      "Epoch 43/100\n",
      "52/52 [==============================] - 24s 471ms/step - loss: 0.2950 - accuracy: 0.9088 - val_loss: 1.5060 - val_accuracy: 0.5856\n",
      "Epoch 44/100\n",
      "52/52 [==============================] - 18s 355ms/step - loss: 0.3081 - accuracy: 0.8979 - val_loss: 1.5397 - val_accuracy: 0.5992\n",
      "Epoch 45/100\n",
      "52/52 [==============================] - 18s 350ms/step - loss: 0.3342 - accuracy: 0.8869 - val_loss: 1.5933 - val_accuracy: 0.5380\n",
      "Epoch 46/100\n",
      "52/52 [==============================] - 17s 320ms/step - loss: 0.3442 - accuracy: 0.8912 - val_loss: 1.4728 - val_accuracy: 0.5951\n",
      "Epoch 47/100\n",
      "52/52 [==============================] - 18s 341ms/step - loss: 0.3149 - accuracy: 0.8912 - val_loss: 1.4994 - val_accuracy: 0.5829\n",
      "Epoch 48/100\n",
      "52/52 [==============================] - 18s 345ms/step - loss: 0.2811 - accuracy: 0.9137 - val_loss: 1.6138 - val_accuracy: 0.5503\n",
      "Epoch 49/100\n",
      "52/52 [==============================] - 23s 440ms/step - loss: 0.3035 - accuracy: 0.9021 - val_loss: 1.5809 - val_accuracy: 0.5571\n",
      "Epoch 50/100\n",
      "52/52 [==============================] - 18s 346ms/step - loss: 0.3113 - accuracy: 0.8924 - val_loss: 1.4823 - val_accuracy: 0.5734\n",
      "Epoch 51/100\n",
      "52/52 [==============================] - 20s 389ms/step - loss: 0.2786 - accuracy: 0.9046 - val_loss: 1.5966 - val_accuracy: 0.5639\n",
      "Epoch 52/100\n",
      "52/52 [==============================] - 17s 338ms/step - loss: 0.2988 - accuracy: 0.8997 - val_loss: 1.5568 - val_accuracy: 0.5611\n",
      "Epoch 53/100\n",
      "52/52 [==============================] - 19s 363ms/step - loss: 0.2743 - accuracy: 0.9112 - val_loss: 1.5855 - val_accuracy: 0.5543\n",
      "Epoch 54/100\n",
      "52/52 [==============================] - 19s 365ms/step - loss: 0.2654 - accuracy: 0.9137 - val_loss: 1.6756 - val_accuracy: 0.5462\n",
      "Epoch 55/100\n",
      "52/52 [==============================] - 18s 352ms/step - loss: 0.2582 - accuracy: 0.9161 - val_loss: 1.7572 - val_accuracy: 0.5312\n",
      "Epoch 56/100\n",
      "52/52 [==============================] - 19s 372ms/step - loss: 0.2968 - accuracy: 0.9246 - val_loss: 1.5355 - val_accuracy: 0.5611\n",
      "Epoch 57/100\n"
     ]
    },
    {
     "name": "stdout",
     "output_type": "stream",
     "text": [
      "52/52 [==============================] - 19s 368ms/step - loss: 0.2542 - accuracy: 0.9198 - val_loss: 1.6330 - val_accuracy: 0.5747\n",
      "Epoch 58/100\n",
      "52/52 [==============================] - 18s 353ms/step - loss: 0.2257 - accuracy: 0.9381 - val_loss: 1.5697 - val_accuracy: 0.5571\n",
      "Epoch 59/100\n",
      "52/52 [==============================] - 23s 387ms/step - loss: 0.2683 - accuracy: 0.9106 - val_loss: 1.7589 - val_accuracy: 0.5639\n",
      "Epoch 60/100\n",
      "52/52 [==============================] - 22s 413ms/step - loss: 0.2390 - accuracy: 0.9198 - val_loss: 1.6750 - val_accuracy: 0.5652\n",
      "Epoch 61/100\n",
      "52/52 [==============================] - 21s 412ms/step - loss: 0.2379 - accuracy: 0.9228 - val_loss: 1.6060 - val_accuracy: 0.5652\n",
      "Epoch 62/100\n",
      "52/52 [==============================] - 25s 484ms/step - loss: 0.2154 - accuracy: 0.9350 - val_loss: 1.6019 - val_accuracy: 0.5761\n",
      "Epoch 63/100\n",
      "52/52 [==============================] - 25s 475ms/step - loss: 0.2143 - accuracy: 0.9410 - val_loss: 1.6869 - val_accuracy: 0.5584\n",
      "Epoch 64/100\n",
      "52/52 [==============================] - 22s 428ms/step - loss: 0.2195 - accuracy: 0.9350 - val_loss: 1.8105 - val_accuracy: 0.5299\n",
      "Epoch 65/100\n",
      "52/52 [==============================] - 25s 480ms/step - loss: 0.2373 - accuracy: 0.9264 - val_loss: 1.6836 - val_accuracy: 0.5571\n",
      "Epoch 66/100\n",
      "52/52 [==============================] - 23s 438ms/step - loss: 0.2260 - accuracy: 0.9289 - val_loss: 1.9096 - val_accuracy: 0.4891\n",
      "Epoch 67/100\n",
      "52/52 [==============================] - 24s 465ms/step - loss: 0.1965 - accuracy: 0.9489 - val_loss: 1.7532 - val_accuracy: 0.5611\n",
      "Epoch 68/100\n",
      "52/52 [==============================] - 24s 461ms/step - loss: 0.1915 - accuracy: 0.9422 - val_loss: 1.6195 - val_accuracy: 0.5788\n",
      "Epoch 69/100\n",
      "52/52 [==============================] - 24s 455ms/step - loss: 0.1835 - accuracy: 0.9489 - val_loss: 1.7550 - val_accuracy: 0.5639\n",
      "Epoch 70/100\n",
      "52/52 [==============================] - 23s 445ms/step - loss: 0.1847 - accuracy: 0.9502 - val_loss: 1.7070 - val_accuracy: 0.5761\n",
      "Epoch 71/100\n",
      "52/52 [==============================] - 24s 457ms/step - loss: 0.1763 - accuracy: 0.9502 - val_loss: 1.7743 - val_accuracy: 0.5788\n",
      "Epoch 72/100\n",
      "52/52 [==============================] - 24s 464ms/step - loss: 0.1733 - accuracy: 0.9465 - val_loss: 1.6687 - val_accuracy: 0.5720\n",
      "Epoch 73/100\n",
      "52/52 [==============================] - 22s 430ms/step - loss: 0.2112 - accuracy: 0.9307 - val_loss: 1.9091 - val_accuracy: 0.5231\n",
      "Epoch 74/100\n",
      "52/52 [==============================] - 21s 397ms/step - loss: 0.1698 - accuracy: 0.9550 - val_loss: 1.7453 - val_accuracy: 0.5625\n",
      "Epoch 75/100\n",
      "52/52 [==============================] - 23s 442ms/step - loss: 0.1704 - accuracy: 0.9502 - val_loss: 1.8951 - val_accuracy: 0.5421\n",
      "Epoch 76/100\n",
      "52/52 [==============================] - 22s 425ms/step - loss: 0.1592 - accuracy: 0.9502 - val_loss: 1.9897 - val_accuracy: 0.5448\n",
      "Epoch 77/100\n",
      "52/52 [==============================] - 21s 399ms/step - loss: 0.1771 - accuracy: 0.9441 - val_loss: 1.7771 - val_accuracy: 0.5639\n",
      "Epoch 78/100\n",
      "52/52 [==============================] - 21s 405ms/step - loss: 0.1678 - accuracy: 0.9520 - val_loss: 1.7359 - val_accuracy: 0.5693\n",
      "Epoch 79/100\n",
      "52/52 [==============================] - 21s 405ms/step - loss: 0.1774 - accuracy: 0.9453 - val_loss: 1.7451 - val_accuracy: 0.5829\n",
      "Epoch 80/100\n",
      "52/52 [==============================] - 23s 439ms/step - loss: 0.1445 - accuracy: 0.9641 - val_loss: 1.7348 - val_accuracy: 0.5747\n",
      "Epoch 81/100\n",
      "52/52 [==============================] - 21s 415ms/step - loss: 0.1897 - accuracy: 0.9447 - val_loss: 2.0594 - val_accuracy: 0.5258\n",
      "Epoch 82/100\n",
      "52/52 [==============================] - 23s 437ms/step - loss: 0.1409 - accuracy: 0.9629 - val_loss: 1.8858 - val_accuracy: 0.5516\n",
      "Epoch 83/100\n",
      "52/52 [==============================] - 21s 402ms/step - loss: 0.1228 - accuracy: 0.9684 - val_loss: 1.9022 - val_accuracy: 0.5639\n",
      "Epoch 84/100\n",
      "52/52 [==============================] - 23s 448ms/step - loss: 0.1329 - accuracy: 0.9714 - val_loss: 1.9052 - val_accuracy: 0.5747\n",
      "Epoch 85/100\n",
      "52/52 [==============================] - 23s 448ms/step - loss: 0.1199 - accuracy: 0.9702 - val_loss: 1.9224 - val_accuracy: 0.5380\n",
      "Epoch 86/100\n",
      "52/52 [==============================] - 20s 383ms/step - loss: 0.1506 - accuracy: 0.9562 - val_loss: 1.7952 - val_accuracy: 0.5625\n",
      "Epoch 87/100\n",
      "52/52 [==============================] - 20s 379ms/step - loss: 0.1260 - accuracy: 0.9629 - val_loss: 2.0774 - val_accuracy: 0.5258\n",
      "Epoch 88/100\n",
      "52/52 [==============================] - 23s 445ms/step - loss: 0.1335 - accuracy: 0.9611 - val_loss: 1.7709 - val_accuracy: 0.5734\n",
      "Epoch 89/100\n",
      "52/52 [==============================] - 20s 378ms/step - loss: 0.1231 - accuracy: 0.9733 - val_loss: 1.8870 - val_accuracy: 0.5883\n",
      "Epoch 90/100\n",
      "52/52 [==============================] - 19s 370ms/step - loss: 0.1434 - accuracy: 0.9526 - val_loss: 1.7947 - val_accuracy: 0.5679\n",
      "Epoch 91/100\n",
      "52/52 [==============================] - 19s 366ms/step - loss: 0.1212 - accuracy: 0.9660 - val_loss: 1.8511 - val_accuracy: 0.5842\n",
      "Epoch 92/100\n",
      "52/52 [==============================] - 18s 350ms/step - loss: 0.1349 - accuracy: 0.9617 - val_loss: 1.7984 - val_accuracy: 0.5747\n",
      "Epoch 93/100\n",
      "52/52 [==============================] - 20s 385ms/step - loss: 0.1121 - accuracy: 0.9726 - val_loss: 1.9718 - val_accuracy: 0.5666\n",
      "Epoch 94/100\n",
      "52/52 [==============================] - 19s 371ms/step - loss: 0.1138 - accuracy: 0.9739 - val_loss: 1.8619 - val_accuracy: 0.5802\n",
      "Epoch 95/100\n",
      "52/52 [==============================] - 19s 370ms/step - loss: 0.1172 - accuracy: 0.9708 - val_loss: 1.9117 - val_accuracy: 0.5516\n",
      "Epoch 96/100\n",
      "52/52 [==============================] - 20s 387ms/step - loss: 0.1172 - accuracy: 0.9666 - val_loss: 2.0405 - val_accuracy: 0.5448\n",
      "Epoch 97/100\n",
      "52/52 [==============================] - 19s 358ms/step - loss: 0.1176 - accuracy: 0.9720 - val_loss: 1.9987 - val_accuracy: 0.5476\n",
      "Epoch 98/100\n",
      "52/52 [==============================] - 18s 349ms/step - loss: 0.1027 - accuracy: 0.9739 - val_loss: 2.2671 - val_accuracy: 0.5095\n",
      "Epoch 99/100\n",
      "52/52 [==============================] - 18s 358ms/step - loss: 0.0952 - accuracy: 0.9757 - val_loss: 1.9593 - val_accuracy: 0.5693\n",
      "Epoch 100/100\n",
      "52/52 [==============================] - 18s 350ms/step - loss: 0.0993 - accuracy: 0.9733 - val_loss: 1.8879 - val_accuracy: 0.5707\n"
     ]
    },
    {
     "data": {
      "text/plain": [
       "<tensorflow.python.keras.callbacks.History at 0x2b901282828>"
      ]
     },
     "execution_count": 13,
     "metadata": {},
     "output_type": "execute_result"
    }
   ],
   "source": [
    "model.fit_generator(x_train,steps_per_epoch=52,epochs=100,validation_data=x_test,validation_steps=23)"
   ]
  },
  {
   "cell_type": "code",
   "execution_count": 14,
   "metadata": {},
   "outputs": [],
   "source": [
    "model.save(\"floura.h5\")"
   ]
  },
  {
   "cell_type": "code",
   "execution_count": null,
   "metadata": {},
   "outputs": [],
   "source": []
  }
 ],
 "metadata": {
  "kernelspec": {
   "display_name": "Python 3",
   "language": "python",
   "name": "python3"
  },
  "language_info": {
   "codemirror_mode": {
    "name": "ipython",
    "version": 3
   },
   "file_extension": ".py",
   "mimetype": "text/x-python",
   "name": "python",
   "nbconvert_exporter": "python",
   "pygments_lexer": "ipython3",
   "version": "3.7.3"
  }
 },
 "nbformat": 4,
 "nbformat_minor": 2
}
